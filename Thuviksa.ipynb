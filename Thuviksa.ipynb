{
 "cells": [
  {
   "cell_type": "markdown",
   "id": "a08bac43",
   "metadata": {},
   "source": [
    "# Halloween 🎃\n",
    "\n",
    "This is the example notebook for the Halloween session. Please do **not** commit changes to this Notebook, but create a copy (File -> Make a Copy) and then rename the notebook, so the namne includes your name. In the end you can then add your Notebook to the repository using\n",
    "\n",
    "```\n",
    "git add Names_Notebook.ipynb\n",
    "git commit -m 'Adding my notebook' .\n",
    "git push\n",
    "```\n",
    "\n",
    "Have fun!"
   ]
  },
  {
   "cell_type": "markdown",
   "id": "ad6da881",
   "metadata": {},
   "source": [
    "## Setup 🌕"
   ]
  },
  {
   "cell_type": "code",
   "execution_count": 7,
   "id": "085d5dc7",
   "metadata": {},
   "outputs": [],
   "source": [
    "from PIL import Image\n",
    "import time\n",
    "import ST7735\n",
    "from ltr559 import LTR559\n",
    "\n",
    "ltr559 = LTR559()\n",
    "\n",
    "disp = ST7735.ST7735(port=0,cs=1,dc=9,backlight=12,rotation=270,spi_speed_hz=10000000)\n",
    "disp.begin()\n",
    "\n",
    "image = Image.open(\"Images/woman-mage_thuviksa.png\")\n",
    "image2 = Image.open(\"Images/crystal-ball_thuviksa.png\")\n",
    "image4 = Image.open(\"Images/wolf_thuviksa.png\")\n",
    "image.thumbnail([disp.width, disp.height])\n",
    "image2.thumbnail([disp.width, disp.height])\n",
    "image4.thumbnail([disp.width, disp.height])"
   ]
  },
  {
   "cell_type": "markdown",
   "id": "f3da9d5d",
   "metadata": {},
   "source": [
    "## Main Loop 👻"
   ]
  },
  {
   "cell_type": "code",
   "execution_count": 8,
   "id": "9a5c8de0",
   "metadata": {},
   "outputs": [
    {
     "ename": "NameError",
     "evalue": "name 'clear_output' is not defined",
     "output_type": "error",
     "traceback": [
      "\u001b[0;31m---------------------------------------------------------------------------\u001b[0m",
      "\u001b[0;31mNameError\u001b[0m                                 Traceback (most recent call last)",
      "\u001b[0;32m<ipython-input-8-e5118e1a0ffa>\u001b[0m in \u001b[0;36m<module>\u001b[0;34m\u001b[0m\n\u001b[1;32m     10\u001b[0m         \u001b[0mprox\u001b[0m \u001b[0;34m=\u001b[0m \u001b[0mltr559\u001b[0m\u001b[0;34m.\u001b[0m\u001b[0mget_proximity\u001b[0m\u001b[0;34m(\u001b[0m\u001b[0;34m)\u001b[0m\u001b[0;34m\u001b[0m\u001b[0;34m\u001b[0m\u001b[0m\n\u001b[1;32m     11\u001b[0m \u001b[0;34m\u001b[0m\u001b[0m\n\u001b[0;32m---> 12\u001b[0;31m         \u001b[0mclear_output\u001b[0m\u001b[0;34m(\u001b[0m\u001b[0mwait\u001b[0m\u001b[0;34m=\u001b[0m\u001b[0;32mTrue\u001b[0m\u001b[0;34m)\u001b[0m\u001b[0;34m\u001b[0m\u001b[0;34m\u001b[0m\u001b[0m\n\u001b[0m\u001b[1;32m     13\u001b[0m         \u001b[0mprint\u001b[0m\u001b[0;34m(\u001b[0m\u001b[0mprox\u001b[0m\u001b[0;34m)\u001b[0m\u001b[0;34m\u001b[0m\u001b[0;34m\u001b[0m\u001b[0m\n\u001b[1;32m     14\u001b[0m \u001b[0;34m\u001b[0m\u001b[0m\n",
      "\u001b[0;31mNameError\u001b[0m: name 'clear_output' is not defined"
     ]
    }
   ],
   "source": [
    "import random\n",
    "images = [image, image2, image4]\n",
    "\n",
    "image3 = images[random.randint(0,len(images)-1)]\n",
    "image3.thumbnail([disp.width, disp.height])\n",
    "\n",
    "try:\n",
    "    while True:\n",
    "        ltr559.update_sensor()\n",
    "        prox = ltr559.get_proximity()\n",
    "\n",
    "        clear_output(wait=True)\n",
    "        print(prox)\n",
    "        \n",
    "        alpha = min(255, prox)\n",
    "        image.putalpha(alpha)\n",
    "        \n",
    "        if(prox < 50):\n",
    "            img = Image.new('RGBA', (disp.width, disp.height))\n",
    "            img.paste(image,(int((disp.width-image.width)/2),0))\n",
    "            disp.display(img)\n",
    "        elif (prox > 50) and (prox < 55):\n",
    "            img = Image.new('RGBA', (disp.width, disp.height))\n",
    "            img.paste(image2,(int((disp.width-image.width)/2),0))\n",
    "            disp.display(img)\n",
    "        elif (prox > 55) and (prox < 100):\n",
    "            image3 = images[random.randint(0,len(images)-1)]\n",
    "            img = Image.new('RGBA', (disp.width, disp.height))\n",
    "            img.paste(image3,(int((disp.width-image.width)/2),0))\n",
    "            disp.display(img)\n",
    "        elif (prox > 100):\n",
    "            img = Image.new('RGBA', (disp.width, disp.height))\n",
    "            img.paste(image4,(int((disp.width-image.width)/2),0),image4)\n",
    "            disp.display(img)\n",
    "\n",
    "            \n",
    "        time.sleep(0.5)\n",
    "        \n",
    "except KeyboardInterrupt:\n",
    "    pass"
   ]
  },
  {
   "cell_type": "code",
   "execution_count": null,
   "id": "3edf9246",
   "metadata": {},
   "outputs": [],
   "source": []
  }
 ],
 "metadata": {
  "kernelspec": {
   "display_name": "Python 3",
   "language": "python",
   "name": "python3"
  },
  "language_info": {
   "codemirror_mode": {
    "name": "ipython",
    "version": 3
   },
   "file_extension": ".py",
   "mimetype": "text/x-python",
   "name": "python",
   "nbconvert_exporter": "python",
   "pygments_lexer": "ipython3",
   "version": "3.7.3"
  }
 },
 "nbformat": 4,
 "nbformat_minor": 5
}
