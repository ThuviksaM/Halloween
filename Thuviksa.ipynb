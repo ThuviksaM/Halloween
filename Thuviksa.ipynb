{
 "cells": [
  {
   "cell_type": "markdown",
   "id": "a08bac43",
   "metadata": {},
   "source": [
    "# Halloween 🎃\n",
    "\n",
    "This is the example notebook for the Halloween session. Please do **not** commit changes to this Notebook, but create a copy (File -> Make a Copy) and then rename the notebook, so the namne includes your name. In the end you can then add your Notebook to the repository using\n",
    "\n",
    "```\n",
    "git add Names_Notebook.ipynb\n",
    "git commit -m 'Adding my notebook' .\n",
    "git push\n",
    "```\n",
    "\n",
    "Have fun!"
   ]
  },
  {
   "cell_type": "markdown",
   "id": "ad6da881",
   "metadata": {},
   "source": [
    "## Setup 🌕"
   ]
  },
  {
   "cell_type": "code",
   "execution_count": null,
   "id": "085d5dc7",
   "metadata": {},
   "outputs": [],
   "source": [
    "from IPython.display import clear_output\n",
    "from PIL import Image\n",
    "import time\n",
    "import ST7735\n",
    "from ltr559 import LTR559\n",
    "\n",
    "ltr559 = LTR559()\n",
    "\n",
    "disp = ST7735.ST7735(port=0,cs=1,dc=9,backlight=12,rotation=270,spi_speed_hz=10000000)\n",
    "disp.begin()\n",
    "\n",
    "image = Image.open(\"Images/woman-mage_thuviksa.png\")\n",
    "image2 = Image.open(\"Images/crystal-ball_thuviksa.png\")\n",
    "image4 = Image.open(\"Images/wolf_thuviksa.png\")\n",
    "image.thumbnail([disp.width, disp.height])\n",
    "image2.thumbnail([disp.width, disp.height])\n",
    "image4.thumbnail([disp.width, disp.height])"
   ]
  },
  {
   "cell_type": "markdown",
   "id": "6f6aed0e",
   "metadata": {},
   "source": [
    "## Getting ALL Images 🧟"
   ]
  },
  {
   "cell_type": "code",
   "execution_count": 5,
   "id": "d16ca965",
   "metadata": {},
   "outputs": [
    {
     "name": "stdout",
     "output_type": "stream",
     "text": [
      "Found   14 image files.\n",
      "Open this notebook in Jupyter Notebooks to see the pictures 😄\n"
     ]
    },
    {
     "data": {
      "text/html": [
       "\n",
       "        <div style=\"display: flex; flex-flow: row wrap; text-align: center;\">\n",
       "        \n",
       "            <figure style=\"margin: 5px !important;\">\n",
       "              <img src=\"Images/suchita-ghost.png\" style=\"height: 80px\">\n",
       "              <figcaption style=\"font-size: 0.6em\">Images/suchita-ghost.png</figcaption>\n",
       "            </figure>\n",
       "        \n",
       "            <figure style=\"margin: 5px !important;\">\n",
       "              <img src=\"Images/crystal-ball_thuviksa.png\" style=\"height: 80px\">\n",
       "              <figcaption style=\"font-size: 0.6em\">Images/crystal-ball_thuviksa.png</figcaption>\n",
       "            </figure>\n",
       "        \n",
       "            <figure style=\"margin: 5px !important;\">\n",
       "              <img src=\"Images/wolf_thuviksa.png\" style=\"height: 80px\">\n",
       "              <figcaption style=\"font-size: 0.6em\">Images/wolf_thuviksa.png</figcaption>\n",
       "            </figure>\n",
       "        \n",
       "            <figure style=\"margin: 5px !important;\">\n",
       "              <img src=\"Images/jack-o-lantern.png\" style=\"height: 80px\">\n",
       "              <figcaption style=\"font-size: 0.6em\">Images/jack-o-lantern.png</figcaption>\n",
       "            </figure>\n",
       "        \n",
       "            <figure style=\"margin: 5px !important;\">\n",
       "              <img src=\"Images/woman-mage_thuviksa.png\" style=\"height: 80px\">\n",
       "              <figcaption style=\"font-size: 0.6em\">Images/woman-mage_thuviksa.png</figcaption>\n",
       "            </figure>\n",
       "        \n",
       "            <figure style=\"margin: 5px !important;\">\n",
       "              <img src=\"Images/worried.jpeg\" style=\"height: 80px\">\n",
       "              <figcaption style=\"font-size: 0.6em\">Images/worried.jpeg</figcaption>\n",
       "            </figure>\n",
       "        \n",
       "            <figure style=\"margin: 5px !important;\">\n",
       "              <img src=\"Images/ghostie.jpeg\" style=\"height: 80px\">\n",
       "              <figcaption style=\"font-size: 0.6em\">Images/ghostie.jpeg</figcaption>\n",
       "            </figure>\n",
       "        \n",
       "            <figure style=\"margin: 5px !important;\">\n",
       "              <img src=\"Images/scream.jpeg\" style=\"height: 80px\">\n",
       "              <figcaption style=\"font-size: 0.6em\">Images/scream.jpeg</figcaption>\n",
       "            </figure>\n",
       "        \n",
       "            <figure style=\"margin: 5px !important;\">\n",
       "              <img src=\"Images/scared.jpeg\" style=\"height: 80px\">\n",
       "              <figcaption style=\"font-size: 0.6em\">Images/scared.jpeg</figcaption>\n",
       "            </figure>\n",
       "        \n",
       "            <figure style=\"margin: 5px !important;\">\n",
       "              <img src=\"Images/thomas-ghost.png\" style=\"height: 80px\">\n",
       "              <figcaption style=\"font-size: 0.6em\">Images/thomas-ghost.png</figcaption>\n",
       "            </figure>\n",
       "        \n",
       "            <figure style=\"margin: 5px !important;\">\n",
       "              <img src=\"Images/suchita-broom.png\" style=\"height: 80px\">\n",
       "              <figcaption style=\"font-size: 0.6em\">Images/suchita-broom.png</figcaption>\n",
       "            </figure>\n",
       "        \n",
       "            <figure style=\"margin: 5px !important;\">\n",
       "              <img src=\"Images/amelie-bat.png\" style=\"height: 80px\">\n",
       "              <figcaption style=\"font-size: 0.6em\">Images/amelie-bat.png</figcaption>\n",
       "            </figure>\n",
       "        \n",
       "            <figure style=\"margin: 5px !important;\">\n",
       "              <img src=\"Images/zombie.png\" style=\"height: 80px\">\n",
       "              <figcaption style=\"font-size: 0.6em\">Images/zombie.png</figcaption>\n",
       "            </figure>\n",
       "        \n",
       "            <figure style=\"margin: 5px !important;\">\n",
       "              <img src=\"Images/neutral.jpeg\" style=\"height: 80px\">\n",
       "              <figcaption style=\"font-size: 0.6em\">Images/neutral.jpeg</figcaption>\n",
       "            </figure>\n",
       "        \n",
       "        </div>\n",
       "    "
      ],
      "text/plain": [
       "<IPython.core.display.HTML object>"
      ]
     },
     "execution_count": 5,
     "metadata": {},
     "output_type": "execute_result"
    }
   ],
   "source": [
    "from IPython.display import HTML\n",
    "from glob import glob\n",
    "\n",
    "def gallery(images, row_height='auto'):\n",
    "    figures = []\n",
    "    for image in images:\n",
    "        src = image\n",
    "        caption = f'<figcaption style=\"font-size: 0.6em\">{image}</figcaption>'\n",
    "        figures.append(f'''\n",
    "            <figure style=\"margin: 5px !important;\">\n",
    "              <img src=\"{src}\" style=\"height: {row_height}\">\n",
    "              {caption}\n",
    "            </figure>\n",
    "        ''')\n",
    "    return HTML(data=f'''\n",
    "        <div style=\"display: flex; flex-flow: row wrap; text-align: center;\">\n",
    "        {''.join(figures)}\n",
    "        </div>\n",
    "    ''')\n",
    "\n",
    "files = glob('Images/*')\n",
    "print (\"Found {0:4d} image files.\".format(len(files)))\n",
    "print(\"Open this notebook in Jupyter Notebooks to see the pictures 😄\")\n",
    "\n",
    "images=[]\n",
    "for file in files:\n",
    "    image = Image.open(file)\n",
    "    image.thumbnail([disp.width, disp.height])    \n",
    "    images.append(image)\n",
    "    \n",
    "gallery(files, row_height=\"80px\")"
   ]
  },
  {
   "cell_type": "markdown",
   "id": "f3da9d5d",
   "metadata": {},
   "source": [
    "## Main Loop 👻"
   ]
  },
  {
   "cell_type": "code",
   "execution_count": 10,
   "id": "9a5c8de0",
   "metadata": {},
   "outputs": [
    {
     "name": "stdout",
     "output_type": "stream",
     "text": [
      "0\n"
     ]
    }
   ],
   "source": [
    "import random\n",
    "\n",
    "image3 = images[random.randint(0,len(images)-1)]\n",
    "image3.thumbnail([disp.width, disp.height])\n",
    "\n",
    "try:\n",
    "    while True:\n",
    "        ltr559.update_sensor()\n",
    "        prox = ltr559.get_proximity()\n",
    "\n",
    "        clear_output(wait=True)\n",
    "        print(prox)\n",
    "        \n",
    "        alpha = min(255, prox)\n",
    "        image.putalpha(alpha)\n",
    "        \n",
    "        if(prox < 50):\n",
    "            img = Image.new('RGBA', (disp.width, disp.height))\n",
    "            img.paste(image,(int((disp.width-image.width)/2),0))\n",
    "            disp.display(img)\n",
    "        elif (prox > 50) and (prox < 55):\n",
    "            img = Image.new('RGBA', (disp.width, disp.height))\n",
    "            img.paste(image2,(int((disp.width-image.width)/2),0))\n",
    "            disp.display(img)\n",
    "        elif (prox > 55) and (prox < 100):\n",
    "            image3 = images[random.randint(0,len(images)-1)]\n",
    "            img = Image.new('RGBA', (disp.width, disp.height))\n",
    "            img.paste(image3,(int((disp.width-image.width)/2),0))\n",
    "            disp.display(img)\n",
    "        elif (prox > 100):\n",
    "            img = Image.new('RGBA', (disp.width, disp.height))\n",
    "            img.paste(image4,(int((disp.width-image.width)/2),0),image4)\n",
    "            disp.display(img)\n",
    "\n",
    "            \n",
    "        time.sleep(0.5)\n",
    "        \n",
    "except KeyboardInterrupt:\n",
    "    pass"
   ]
  },
  {
   "cell_type": "code",
   "execution_count": null,
   "id": "3edf9246",
   "metadata": {},
   "outputs": [],
   "source": []
  }
 ],
 "metadata": {
  "kernelspec": {
   "display_name": "Python 3",
   "language": "python",
   "name": "python3"
  },
  "language_info": {
   "codemirror_mode": {
    "name": "ipython",
    "version": 3
   },
   "file_extension": ".py",
   "mimetype": "text/x-python",
   "name": "python",
   "nbconvert_exporter": "python",
   "pygments_lexer": "ipython3",
   "version": "3.7.3"
  }
 },
 "nbformat": 4,
 "nbformat_minor": 5
}
