{
 "cells": [
  {
   "cell_type": "markdown",
   "id": "a08bac43",
   "metadata": {},
   "source": [
    "# Halloween 🎃\n",
    "\n",
    "This is the example notebook for the Halloween session. Please do **not** commit changes to this Notebook, but create a copy (File -> Make a Copy) and then rename the notebook, so the namne includes your name. In the end you can then add your Notebook to the repository using\n",
    "\n",
    "```\n",
    "git add Names_Notebook.ipynb\n",
    "git commit -m 'Adding my notebook' .\n",
    "git push\n",
    "```\n",
    "\n",
    "Have fun!"
   ]
  },
  {
   "cell_type": "code",
   "execution_count": 1,
   "id": "51154f66",
   "metadata": {},
   "outputs": [],
   "source": [
    "import time\n",
    "from IPython.display import clear_output\n",
    "from ltr559 import LTR559\n",
    "\n",
    "ltr559 = LTR559()"
   ]
  },
  {
   "cell_type": "markdown",
   "id": "fa4c621e",
   "metadata": {},
   "source": [
    "Proximity is part of the light sensor we already used. First lets make a loop and see the values we get. Click the stop button once you are done playing with the loop."
   ]
  },
  {
   "cell_type": "code",
   "execution_count": null,
   "id": "a16b4a6e",
   "metadata": {},
   "outputs": [],
   "source": [
    "try:\n",
    "    while True:\n",
    "        ltr559.update_sensor()\n",
    "        prox = ltr559.get_proximity()\n",
    "        clear_output(wait=True)\n",
    "\n",
    "        print(prox)\n",
    "        time.sleep(0.05)\n",
    "        \n",
    "except KeyboardInterrupt:\n",
    "    pass"
   ]
  },
  {
   "cell_type": "markdown",
   "id": "4807d73c",
   "metadata": {},
   "source": [
    "### Now let's make it spooky\n",
    "\n",
    "Here we have an image appear is something is close. First we get the needed modules for the LCD display. Also please upload all images you are planning to use to the `Images` folder. **Also make sure to use a unique image name, so we have no conflicts when merging.** Maybe use your name in it as well."
   ]
  },
  {
   "cell_type": "code",
   "execution_count": 2,
   "id": "085d5dc7",
   "metadata": {},
   "outputs": [
    {
     "ename": "FileNotFoundError",
     "evalue": "[Errno 2] No such file or directory: 'Images/mage_thuviksa.png'",
     "output_type": "error",
     "traceback": [
      "\u001b[0;31m---------------------------------------------------------------------------\u001b[0m",
      "\u001b[0;31mFileNotFoundError\u001b[0m                         Traceback (most recent call last)",
      "\u001b[0;32m<ipython-input-2-929032c5b02e>\u001b[0m in \u001b[0;36m<module>\u001b[0;34m\u001b[0m\n\u001b[1;32m      6\u001b[0m \u001b[0mdisp\u001b[0m\u001b[0;34m.\u001b[0m\u001b[0mbegin\u001b[0m\u001b[0;34m(\u001b[0m\u001b[0;34m)\u001b[0m\u001b[0;34m\u001b[0m\u001b[0;34m\u001b[0m\u001b[0m\n\u001b[1;32m      7\u001b[0m \u001b[0;34m\u001b[0m\u001b[0m\n\u001b[0;32m----> 8\u001b[0;31m \u001b[0mimage\u001b[0m \u001b[0;34m=\u001b[0m \u001b[0mImage\u001b[0m\u001b[0;34m.\u001b[0m\u001b[0mopen\u001b[0m\u001b[0;34m(\u001b[0m\u001b[0;34m\"Images/mage_thuviksa.png\"\u001b[0m\u001b[0;34m)\u001b[0m\u001b[0;34m\u001b[0m\u001b[0;34m\u001b[0m\u001b[0m\n\u001b[0m\u001b[1;32m      9\u001b[0m \u001b[0mimage2\u001b[0m \u001b[0;34m=\u001b[0m \u001b[0mImage\u001b[0m\u001b[0;34m.\u001b[0m\u001b[0mopen\u001b[0m\u001b[0;34m(\u001b[0m\u001b[0;34m\"Images/crystal-ball.png\"\u001b[0m\u001b[0;34m)\u001b[0m\u001b[0;34m\u001b[0m\u001b[0;34m\u001b[0m\u001b[0m\n\u001b[1;32m     10\u001b[0m \u001b[0mimage\u001b[0m\u001b[0;34m.\u001b[0m\u001b[0mthumbnail\u001b[0m\u001b[0;34m(\u001b[0m\u001b[0;34m[\u001b[0m\u001b[0mdisp\u001b[0m\u001b[0;34m.\u001b[0m\u001b[0mwidth\u001b[0m\u001b[0;34m,\u001b[0m \u001b[0mdisp\u001b[0m\u001b[0;34m.\u001b[0m\u001b[0mheight\u001b[0m\u001b[0;34m]\u001b[0m\u001b[0;34m)\u001b[0m\u001b[0;34m\u001b[0m\u001b[0;34m\u001b[0m\u001b[0m\n",
      "\u001b[0;32m/usr/lib/python3/dist-packages/PIL/Image.py\u001b[0m in \u001b[0;36mopen\u001b[0;34m(fp, mode)\u001b[0m\n\u001b[1;32m   2632\u001b[0m \u001b[0;34m\u001b[0m\u001b[0m\n\u001b[1;32m   2633\u001b[0m     \u001b[0;32mif\u001b[0m \u001b[0mfilename\u001b[0m\u001b[0;34m:\u001b[0m\u001b[0;34m\u001b[0m\u001b[0;34m\u001b[0m\u001b[0m\n\u001b[0;32m-> 2634\u001b[0;31m         \u001b[0mfp\u001b[0m \u001b[0;34m=\u001b[0m \u001b[0mbuiltins\u001b[0m\u001b[0;34m.\u001b[0m\u001b[0mopen\u001b[0m\u001b[0;34m(\u001b[0m\u001b[0mfilename\u001b[0m\u001b[0;34m,\u001b[0m \u001b[0;34m\"rb\"\u001b[0m\u001b[0;34m)\u001b[0m\u001b[0;34m\u001b[0m\u001b[0;34m\u001b[0m\u001b[0m\n\u001b[0m\u001b[1;32m   2635\u001b[0m         \u001b[0mexclusive_fp\u001b[0m \u001b[0;34m=\u001b[0m \u001b[0;32mTrue\u001b[0m\u001b[0;34m\u001b[0m\u001b[0;34m\u001b[0m\u001b[0m\n\u001b[1;32m   2636\u001b[0m \u001b[0;34m\u001b[0m\u001b[0m\n",
      "\u001b[0;31mFileNotFoundError\u001b[0m: [Errno 2] No such file or directory: 'Images/mage_thuviksa.png'"
     ]
    }
   ],
   "source": [
    "from PIL import Image\n",
    "import time\n",
    "import ST7735\n",
    "\n",
    "disp = ST7735.ST7735(port=0,cs=1,dc=9,backlight=12,rotation=270,spi_speed_hz=10000000)\n",
    "disp.begin()\n",
    "\n",
    "image = Image.open(\"Images/mage_thuviksa.png\")\n",
    "image2 = Image.open(\"Images/crystal-ball_thuviksa.png\")\n",
    "image.thumbnail([disp.width, disp.height])\n",
    "image2.thumbnail([disp.width, disp.height])"
   ]
  },
  {
   "cell_type": "markdown",
   "id": "f3da9d5d",
   "metadata": {},
   "source": [
    "#### Example: Ghost apears/disappears\n",
    "\n",
    "Here we use the same proximity loop and show or hide the ghost based on the value."
   ]
  },
  {
   "cell_type": "code",
   "execution_count": null,
   "id": "9a5c8de0",
   "metadata": {},
   "outputs": [],
   "source": [
    "try:\n",
    "    while True:\n",
    "        ltr559.update_sensor()\n",
    "        prox = ltr559.get_proximity()\n",
    "\n",
    "        clear_output(wait=True)\n",
    "        print(prox)\n",
    "        \n",
    "        if(prox > 50):\n",
    "            img = Image.new('RGBA', (disp.width, disp.height))\n",
    "            img.paste(image,(int((disp.width-image.width)/2),0))  # this code puts it in the middle of the screen\n",
    "            disp.display(img)\n",
    "        else:\n",
    "            img = Image.new('RGBA', (disp.width, disp.height))\n",
    "            img.paste(image2,(int((disp.width-image.width)/2),0))  # this code puts it in the middle of the screen\n",
    "            disp.display(img)\n",
    "            \n",
    "        time.sleep(0.5)\n",
    "        \n",
    "except KeyboardInterrupt:\n",
    "    pass"
   ]
  },
  {
   "cell_type": "markdown",
   "id": "2718a972",
   "metadata": {},
   "source": [
    "#### Example: Ghost apears/disappears with changing transparency\n",
    "\n",
    "This time we use the oppacity value to have the ghost gradually appear or disappear. The example is quite similar except for the `image.putalpha(value)` which sets the transparency from fully transparent (0) to fully opaque (255) which replaces the `if` statement."
   ]
  },
  {
   "cell_type": "code",
   "execution_count": null,
   "id": "d211e649",
   "metadata": {},
   "outputs": [],
   "source": [
    "try:\n",
    "    while True:\n",
    "        ltr559.update_sensor()\n",
    "        prox = ltr559.get_proximity()\n",
    "\n",
    "        clear_output(wait=True)\n",
    "        print(prox)\n",
    "        \n",
    "        alpha = min(255, prox)\n",
    "        image.putalpha(alpha)\n",
    "        \n",
    "        img = Image.new('RGBA', (disp.width, disp.height))\n",
    "        img.paste(image,(int((disp.width-image.width)/2),0),image)  # Note we pass image twice, second giving transparency\n",
    "        disp.display(img)\n",
    "\n",
    "        time.sleep(0.5)\n",
    "        \n",
    "except KeyboardInterrupt:\n",
    "    pass"
   ]
  },
  {
   "cell_type": "markdown",
   "id": "675fd42e",
   "metadata": {},
   "source": [
    "#### Example: Ghost moves with proximity\n",
    "\n",
    "Now we use the proximity value as `x` when pasting the ghost image on the screen."
   ]
  },
  {
   "cell_type": "code",
   "execution_count": null,
   "id": "c66349b0",
   "metadata": {},
   "outputs": [],
   "source": [
    "try:\n",
    "    while True:\n",
    "        ltr559.update_sensor()\n",
    "        prox = ltr559.get_proximity()\n",
    "\n",
    "        clear_output(wait=True)\n",
    "        print(prox)\n",
    "        \n",
    "        position = int(prox/2) - image.width\n",
    "        \n",
    "        img = Image.new('RGBA', (disp.width, disp.height))\n",
    "        img.paste(image,(position,0))\n",
    "        disp.display(img)\n",
    "            \n",
    "        time.sleep(0.5)\n",
    "        \n",
    "except KeyboardInterrupt:\n",
    "    pass"
   ]
  },
  {
   "cell_type": "code",
   "execution_count": null,
   "id": "3edf9246",
   "metadata": {},
   "outputs": [],
   "source": []
  }
 ],
 "metadata": {
  "kernelspec": {
   "display_name": "Python 3",
   "language": "python",
   "name": "python3"
  },
  "language_info": {
   "codemirror_mode": {
    "name": "ipython",
    "version": 3
   },
   "file_extension": ".py",
   "mimetype": "text/x-python",
   "name": "python",
   "nbconvert_exporter": "python",
   "pygments_lexer": "ipython3",
   "version": "3.7.3"
  }
 },
 "nbformat": 4,
 "nbformat_minor": 5
}
